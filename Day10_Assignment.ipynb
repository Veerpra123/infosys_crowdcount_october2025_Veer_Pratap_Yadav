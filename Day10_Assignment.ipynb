{
 "cells": [
  {
   "cell_type": "code",
   "execution_count": null,
   "id": "6f4808aa-89a8-49d4-8960-2eadddacd1a1",
   "metadata": {},
   "outputs": [],
   "source": [
    "# Day 10 — Milestone 1 Demo (Summary)\n",
    "\n",
    "Milestone 1 Expected Output:\n",
    "\n",
    "✔ Registration Page (User can create an account)  \n",
    "✔ Login Page (User can enter credentials)  \n",
    "✔ After login → Redirect to Dashboard / Welcome Page  \n",
    "✔ Proper Form Validation (required fields)  \n",
    "✔ Navigation (Login → Dashboard → Logout)  \n",
    "✔ Project is pushed to GitHub with clear folder structure  \n",
    "\n",
    "Note:\n",
    "- Today is for showing demo / reviewing progress.\n",
    "- If something is pending, complete and finalize today.\n"
   ]
  }
 ],
 "metadata": {
  "kernelspec": {
   "display_name": "Python 3 (ipykernel)",
   "language": "python",
   "name": "python3"
  },
  "language_info": {
   "codemirror_mode": {
    "name": "ipython",
    "version": 3
   },
   "file_extension": ".py",
   "mimetype": "text/x-python",
   "name": "python",
   "nbconvert_exporter": "python",
   "pygments_lexer": "ipython3",
   "version": "3.13.7"
  }
 },
 "nbformat": 4,
 "nbformat_minor": 5
}
