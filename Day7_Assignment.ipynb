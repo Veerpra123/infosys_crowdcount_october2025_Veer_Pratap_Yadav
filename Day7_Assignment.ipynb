{
 "cells": [
  {
   "cell_type": "code",
   "execution_count": null,
   "id": "1bbebe8f-b25b-497f-a006-6a218161dc5f",
   "metadata": {},
   "outputs": [],
   "source": [
    "# Day 7 — HTML, CSS, Bootstrap (Summary Only)\n",
    "\n",
    "Topics Covered Today:\n",
    "\n",
    "- HTML Structure: <!doctype html>, <html>, <head>, <body>\n",
    "- Common HTML Tags: <div>, <h1> to <h6>, <p>, <a>, <button>, <form>, <input>\n",
    "- CSS Basics: class selectors ( .classname ), id selectors ( #idname ), padding vs margin\n",
    "- Bootstrap Introduction:\n",
    "  - Container → Row → Column (Grid System: col-6, col-md-4 etc.)\n",
    "  - Navbar\n",
    "  - Button (btn btn-primary)\n",
    "  - Card (card, card-body)\n",
    "- Flask Concept (Only Theory Today):\n",
    "  - What is a route? → @app.route(\"/\")\n",
    "  - What does return \"<h1>Text</h1>\" do?\n"
   ]
  }
 ],
 "metadata": {
  "kernelspec": {
   "display_name": "Python 3 (ipykernel)",
   "language": "python",
   "name": "python3"
  },
  "language_info": {
   "codemirror_mode": {
    "name": "ipython",
    "version": 3
   },
   "file_extension": ".py",
   "mimetype": "text/x-python",
   "name": "python",
   "nbconvert_exporter": "python",
   "pygments_lexer": "ipython3",
   "version": "3.13.7"
  }
 },
 "nbformat": 4,
 "nbformat_minor": 5
}
