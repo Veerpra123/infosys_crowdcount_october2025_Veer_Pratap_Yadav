{
 "cells": [
  {
   "cell_type": "code",
   "execution_count": 1,
   "id": "daf3aa4c-78c6-4ba9-a777-80615e812de1",
   "metadata": {},
   "outputs": [
    {
     "name": "stdout",
     "output_type": "stream",
     "text": [
      "Integer: 10\n",
      "Negative: -20\n",
      "Binary: 10\n",
      "Octal: 10\n",
      "Hexadecimal: 10\n",
      "Float: 10.5\n",
      "Complex: (2+3j)\n",
      "Boolean: True\n",
      "Addition: 19\n",
      "Subtraction: 11\n",
      "Multiplication: 60\n",
      "Division: 3.75\n",
      "Modulus: 3\n",
      "Floor Division: 3\n",
      "Exponent: 50625\n",
      "Concatenation: Hello World\n",
      "Repetition: HelloHelloHello\n",
      "Slice [0]: H\n",
      "Range Slice [1:4]: ell\n",
      "'H' in str1: True\n",
      "'Z' not in str1: True\n"
     ]
    }
   ],
   "source": [
    "# Day 2 Assignment\n",
    "\n",
    "# Task 1: Numeric Data Types\n",
    "integer_num = 10\n",
    "negative_num = -20\n",
    "binary_num = 0b1010        # binary\n",
    "octal_num = 0o12           # octal\n",
    "hex_num = 0xA              # hexadecimal\n",
    "float_num = 10.5\n",
    "complex_num = 2 + 3j\n",
    "boolean_val = True\n",
    "\n",
    "print(\"Integer:\", integer_num)\n",
    "print(\"Negative:\", negative_num)\n",
    "print(\"Binary:\", binary_num)\n",
    "print(\"Octal:\", octal_num)\n",
    "print(\"Hexadecimal:\", hex_num)\n",
    "print(\"Float:\", float_num)\n",
    "print(\"Complex:\", complex_num)\n",
    "print(\"Boolean:\", boolean_val)\n",
    "\n",
    "# Task 2: Arithmetic Operators\n",
    "a, b = 15, 4\n",
    "print(\"Addition:\", a + b)\n",
    "print(\"Subtraction:\", a - b)\n",
    "print(\"Multiplication:\", a * b)\n",
    "print(\"Division:\", a / b)\n",
    "print(\"Modulus:\", a % b)\n",
    "print(\"Floor Division:\", a // b)\n",
    "print(\"Exponent:\", a ** b)\n",
    "\n",
    "# String Operations\n",
    "str1 = \"Hello\"\n",
    "str2 = \"World\"\n",
    "\n",
    "print(\"Concatenation:\", str1 + \" \" + str2)\n",
    "print(\"Repetition:\", str1 * 3)\n",
    "print(\"Slice [0]:\", str1[0])\n",
    "print(\"Range Slice [1:4]:\", str1[1:4])\n",
    "print(\"'H' in str1:\", 'H' in str1)\n",
    "print(\"'Z' not in str1:\", 'Z' not in str1)\n"
   ]
  },
  {
   "cell_type": "code",
   "execution_count": null,
   "id": "84cf49eb-83c5-4a4f-b04a-27d19ea72990",
   "metadata": {},
   "outputs": [],
   "source": []
  }
 ],
 "metadata": {
  "kernelspec": {
   "display_name": "Python 3 (ipykernel)",
   "language": "python",
   "name": "python3"
  },
  "language_info": {
   "codemirror_mode": {
    "name": "ipython",
    "version": 3
   },
   "file_extension": ".py",
   "mimetype": "text/x-python",
   "name": "python",
   "nbconvert_exporter": "python",
   "pygments_lexer": "ipython3",
   "version": "3.13.7"
  }
 },
 "nbformat": 4,
 "nbformat_minor": 5
}
