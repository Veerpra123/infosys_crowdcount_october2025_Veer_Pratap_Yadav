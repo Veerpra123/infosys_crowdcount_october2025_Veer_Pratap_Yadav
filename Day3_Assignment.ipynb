{
 "cells": [
  {
   "cell_type": "code",
   "execution_count": 1,
   "id": "85df9909-4351-4660-9c61-6184016ab1d3",
   "metadata": {},
   "outputs": [
    {
     "name": "stdout",
     "output_type": "stream",
     "text": [
      "List after operations: [4, 3, 10, 1]\n",
      "Keys: dict_keys(['a', 'b', 'c'])\n",
      "Values: dict_values([1, 2, 3])\n",
      "Items: dict_items([('a', 1), ('b', 2), ('c', 3)])\n",
      "Get: 2\n",
      "Set after modifications: {1, 3, 4, 5, 6}\n",
      "Union: {1, 2, 3, 4, 5}\n",
      "Intersection: {3}\n",
      "Difference: {1, 2}\n",
      "Symmetric Difference: {1, 2, 4, 5}\n"
     ]
    }
   ],
   "source": [
    "# Day 3 Assignment\n",
    "\n",
    "# Task 2: Functions manipulating lists\n",
    "my_list = [1, 2, 3]\n",
    "my_list.append(4)\n",
    "my_list.insert(1, 10)\n",
    "my_list.remove(2)\n",
    "my_list.reverse()\n",
    "print(\"List after operations:\", my_list)\n",
    "\n",
    "# Task 3: Built-in functions for dictionary\n",
    "my_dict = {\"a\": 1, \"b\": 2, \"c\": 3}\n",
    "print(\"Keys:\", my_dict.keys())\n",
    "print(\"Values:\", my_dict.values())\n",
    "print(\"Items:\", my_dict.items())\n",
    "print(\"Get:\", my_dict.get(\"b\"))\n",
    "\n",
    "# Task 4: Functions to modify set\n",
    "my_set = {1, 2, 3}\n",
    "my_set.add(4)\n",
    "my_set.update([5, 6])\n",
    "my_set.discard(2)\n",
    "print(\"Set after modifications:\", my_set)\n",
    "\n",
    "# Task 5: Set operations\n",
    "set1 = {1, 2, 3}\n",
    "set2 = {3, 4, 5}\n",
    "print(\"Union:\", set1 | set2)\n",
    "print(\"Intersection:\", set1 & set2)\n",
    "print(\"Difference:\", set1 - set2)\n",
    "print(\"Symmetric Difference:\", set1 ^ set2)\n"
   ]
  },
  {
   "cell_type": "code",
   "execution_count": null,
   "id": "935c005e-0b48-4855-b093-55644fe8e727",
   "metadata": {},
   "outputs": [],
   "source": []
  }
 ],
 "metadata": {
  "kernelspec": {
   "display_name": "Python 3 (ipykernel)",
   "language": "python",
   "name": "python3"
  },
  "language_info": {
   "codemirror_mode": {
    "name": "ipython",
    "version": 3
   },
   "file_extension": ".py",
   "mimetype": "text/x-python",
   "name": "python",
   "nbconvert_exporter": "python",
   "pygments_lexer": "ipython3",
   "version": "3.13.7"
  }
 },
 "nbformat": 4,
 "nbformat_minor": 5
}
