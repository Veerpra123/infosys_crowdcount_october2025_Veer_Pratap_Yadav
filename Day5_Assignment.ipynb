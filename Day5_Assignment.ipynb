{
 "cells": [
  {
   "cell_type": "code",
   "execution_count": 3,
   "id": "b4bdb181-acde-475f-a21b-6c202b6abe13",
   "metadata": {},
   "outputs": [
    {
     "name": "stdout",
     "output_type": "stream",
     "text": [
      "Fibonacci Sequence:\n",
      "0 1 1 2 3 5 \n",
      "Factorial of 5: 120\n",
      "Current Directory: C:\\Users\\veer2\\Python_Assignments\n",
      "Square root of 16: 4.0\n",
      "Random number 1-10: 10\n",
      "Squares: [0, 1, 4, 9, 16]\n",
      "Evens: (0, 2, 4, 6, 8)\n",
      "Cube Dict: {0: 0, 1: 1, 2: 8, 3: 27, 4: 64}\n",
      "Args: (1, 2, 3)\n",
      "Kwargs: {'name': 'Veer', 'role': 'Student'}\n"
     ]
    }
   ],
   "source": [
    "# Day 5 Assignment\n",
    "\n",
    "# Task 1: Fibonacci & Factorial using recursion\n",
    "def fibonacci(n):\n",
    "    if n <= 1:\n",
    "        return n\n",
    "    else:\n",
    "        return fibonacci(n-1) + fibonacci(n-2)\n",
    "\n",
    "print(\"Fibonacci Sequence:\")\n",
    "for i in range(6):\n",
    "    print(fibonacci(i), end=\" \")\n",
    "\n",
    "def factorial(n):\n",
    "    if n == 0:\n",
    "        return 1\n",
    "    else:\n",
    "        return n * factorial(n-1)\n",
    "\n",
    "print(\"\\nFactorial of 5:\", factorial(5))\n",
    "\n",
    "# Task 2: Modules os, math, random\n",
    "import os, math, random\n",
    "\n",
    "print(\"Current Directory:\", os.getcwd())\n",
    "print(\"Square root of 16:\", math.sqrt(16))\n",
    "print(\"Random number 1-10:\", random.randint(1, 10))\n",
    "\n",
    "# Task 3: List, Tuple, Dictionary Comprehensions\n",
    "squares = [x*x for x in range(5)]\n",
    "evens = tuple(x for x in range(10) if x % 2 == 0)\n",
    "cube_dict = {x: x**3 for x in range(5)}\n",
    "\n",
    "print(\"Squares:\", squares)\n",
    "print(\"Evens:\", evens)\n",
    "print(\"Cube Dict:\", cube_dict)\n",
    "\n",
    "# *args and **kwargs\n",
    "def demo_function(*args, **kwargs):\n",
    "    print(\"Args:\", args)\n",
    "    print(\"Kwargs:\", kwargs)\n",
    "\n",
    "demo_function(1, 2, 3, name=\"Veer\", role=\"Student\")\n"
   ]
  },
  {
   "cell_type": "code",
   "execution_count": null,
   "id": "472871d9-4f59-482b-bf12-b783484cdfb3",
   "metadata": {},
   "outputs": [],
   "source": []
  }
 ],
 "metadata": {
  "kernelspec": {
   "display_name": "Python 3 (ipykernel)",
   "language": "python",
   "name": "python3"
  },
  "language_info": {
   "codemirror_mode": {
    "name": "ipython",
    "version": 3
   },
   "file_extension": ".py",
   "mimetype": "text/x-python",
   "name": "python",
   "nbconvert_exporter": "python",
   "pygments_lexer": "ipython3",
   "version": "3.13.7"
  }
 },
 "nbformat": 4,
 "nbformat_minor": 5
}
