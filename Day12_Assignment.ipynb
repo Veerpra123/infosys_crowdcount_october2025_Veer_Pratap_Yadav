{
 "cells": [
  {
   "cell_type": "code",
   "execution_count": 1,
   "id": "897a7713-5b42-4a0c-8343-46795fa144e4",
   "metadata": {},
   "outputs": [
    {
     "name": "stdout",
     "output_type": "stream",
     "text": [
      "Original Data:\n",
      "   Marks\n",
      "0     45\n",
      "1     78\n",
      "2     88\n",
      "3     56\n",
      "4     92\n",
      "5     70\n",
      "\n",
      "After Normalization:\n",
      "   Marks  Marks_MinMax  Marks_ZScore\n",
      "0     45      0.000000     -1.445909\n",
      "1     78      0.702128      0.354657\n",
      "2     88      0.914894      0.900283\n",
      "3     56      0.234043     -0.845720\n",
      "4     92      1.000000      1.118533\n",
      "5     70      0.531915     -0.081844\n"
     ]
    }
   ],
   "source": [
    "# Day 12 — Pandas Deep Dive (With Normalization Examples)\n",
    "\n",
    "\"\"\"\n",
    "Topics to Understand Today:\n",
    "\n",
    "1. Pandas Basics:\n",
    "   - Series vs DataFrame\n",
    "   - df.head(), df.info(), df.describe()\n",
    "\n",
    "2. Row & Column Selection:\n",
    "   - df['Column'], df[['Col1','Col2']]\n",
    "   - df.loc[row_index, \"Column\"]\n",
    "   - df.iloc[row_number, column_number]\n",
    "\n",
    "3. Filtering Data:\n",
    "   - df[df[\"Age\"] > 30]\n",
    "   - df[(df[\"City\"]==\"Kanpur\") & (df[\"Score\"] > 50)]\n",
    "\n",
    "4. GroupBy & Aggregation:\n",
    "   - df.groupby(\"Team\")[\"Score\"].mean()\n",
    "\n",
    "5. Pivot Table:\n",
    "   - pd.pivot_table(df, values='Score', index='City', columns='Team', aggfunc='mean')\n",
    "\n",
    "6. Sorting Data:\n",
    "   - df.sort_values(\"Age\", ascending=False)\n",
    "\n",
    "7. Merging / Joining:\n",
    "   - pd.merge(df1, df2, on=\"id\", how=\"inner\")\n",
    "\n",
    "---------------------------------------------------\n",
    "Normalization (Important Concept in Data Cleaning):\n",
    "---------------------------------------------------\n",
    "\n",
    "# Definition:\n",
    "Normalization is used to scale numeric data so all values fall within the same range (e.g., 0 to 1).\n",
    "\n",
    "# Example Code:\n",
    "\"\"\"\n",
    "\n",
    "import pandas as pd\n",
    "\n",
    "# Example Data\n",
    "df = pd.DataFrame({\n",
    "    'Marks': [45, 78, 88, 56, 92, 70]\n",
    "})\n",
    "\n",
    "print(\"Original Data:\")\n",
    "print(df)\n",
    "\n",
    "# 1️⃣ Min-Max Normalization → Range (0 to 1)\n",
    "df['Marks_MinMax'] = (df['Marks'] - df['Marks'].min()) / (df['Marks'].max() - df['Marks'].min())\n",
    "\n",
    "# 2️⃣ Z-Score Standardization → Mean = 0, Std = 1\n",
    "df['Marks_ZScore'] = (df['Marks'] - df['Marks'].mean()) / df['Marks'].std()\n",
    "\n",
    "print(\"\\nAfter Normalization:\")\n",
    "print(df)\n"
   ]
  },
  {
   "cell_type": "code",
   "execution_count": null,
   "id": "98d56f8b-dcf7-4855-88d7-c0db3d29151d",
   "metadata": {},
   "outputs": [],
   "source": []
  }
 ],
 "metadata": {
  "kernelspec": {
   "display_name": "Python 3 (ipykernel)",
   "language": "python",
   "name": "python3"
  },
  "language_info": {
   "codemirror_mode": {
    "name": "ipython",
    "version": 3
   },
   "file_extension": ".py",
   "mimetype": "text/x-python",
   "name": "python",
   "nbconvert_exporter": "python",
   "pygments_lexer": "ipython3",
   "version": "3.13.7"
  }
 },
 "nbformat": 4,
 "nbformat_minor": 5
}
