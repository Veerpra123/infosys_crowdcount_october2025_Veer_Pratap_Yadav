{
 "cells": [
  {
   "cell_type": "code",
   "execution_count": null,
   "id": "b33f8ddd-0882-4b17-923a-3c213cab3462",
   "metadata": {},
   "outputs": [],
   "source": [
    "# Day 15 — JWT Authentication (Concept + CrowdCount Integration Plan)\n",
    "\n",
    "Today’s Goal:\n",
    "--------------\n",
    "Understand how JWT (JSON Web Token) will be used for secure login and access control.\n",
    "\n",
    "Why JWT?\n",
    "--------\n",
    "- No need to store session on server.\n",
    "- After login, the server gives a signed token.\n",
    "- The user includes this token in headers while accessing dashboard or APIs.\n",
    "- If token is valid → access granted; otherwise → access denied.\n",
    "\n",
    "Where We Will Use JWT in CrowdCount:\n",
    "------------------------------------\n",
    "✔ Admin Login  \n",
    "✔ CCTV Partner / Client Login  \n",
    "✔ Protected Access to Dashboard, Live Feed, Analytics, and Reports  \n",
    "\n",
    "Flow (Simple):\n",
    "--------------\n",
    "1. User enters login credentials.\n",
    "2. Backend verifies → Generates **Access Token** (short-lived) and **Refresh Token** (long-lived).\n",
    "3. Frontend stores token (in memory / cookie).\n",
    "4. All API requests must include:  Authorization: Bearer <token>\n",
    "5. If token expires → Refresh token is used to get a new one.\n",
    "\n",
    "Implementation Note:\n",
    "--------------------\n",
    "✅ JWT authentication code will be written directly in **CrowdCount backend** (inside Flask / FastAPI).\n",
    "No need to paste code here — actual code is implemented inside the project structure.\n"
   ]
  }
 ],
 "metadata": {
  "kernelspec": {
   "display_name": "Python 3 (ipykernel)",
   "language": "python",
   "name": "python3"
  },
  "language_info": {
   "codemirror_mode": {
    "name": "ipython",
    "version": 3
   },
   "file_extension": ".py",
   "mimetype": "text/x-python",
   "name": "python",
   "nbconvert_exporter": "python",
   "pygments_lexer": "ipython3",
   "version": "3.13.7"
  }
 },
 "nbformat": 4,
 "nbformat_minor": 5
}
